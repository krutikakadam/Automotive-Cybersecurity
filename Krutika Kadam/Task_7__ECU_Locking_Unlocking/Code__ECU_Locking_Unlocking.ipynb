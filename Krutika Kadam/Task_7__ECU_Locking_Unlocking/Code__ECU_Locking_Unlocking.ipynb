{
 "cells": [
  {
   "cell_type": "code",
   "execution_count": 3,
   "id": "3fc4e387",
   "metadata": {},
   "outputs": [
    {
     "name": "stdout",
     "output_type": "stream",
     "text": [
      "Enter the Master id for Authentication: B01234567\n",
      "The Master ECU is identified for communication\n",
      "b'PJq8DVemm3h3wWbzcTxusUwszuT1lKLuJW5Gd-urn4w='\n",
      "b'gAAAAABjcdh7bkJyzL-u-EX-mz9MISBmscvoddyVdH6B94ZOMAX0cGEyrEe4EFBbnZgRIkIp89KLNVmW0uZeR7Us_3id-Ts19tB96uUUudeaiOpKNSuTOfX3_CJ_7HOigNgmKwjSKswS'\n"
     ]
    }
   ],
   "source": [
    "import cryptography\n",
    "from cryptography.fernet import Fernet\n",
    "\n",
    "Master_id = \"B01234567\"\n",
    "Master_ECU = str(input(\"Enter the Master id for Authentication: \"))\n",
    "\n",
    "#ECU Authentication\n",
    "if Master_id == Master_ECU:\n",
    "        print(\"The Master ECU is identified for communication\")\n",
    "        #key generation\n",
    "        key = Fernet.generate_key()\n",
    "        print(key)        \n",
    "\n",
    "        #Key value stored in file\n",
    "        file = open('key_value','wb')\n",
    "        file.write(key)\n",
    "        file.close()\n",
    "        fernet=Fernet(key)\n",
    "\n",
    "        #payload to send \n",
    "        Payload = \"arbitration_id=0xabcde, data=[1,2,3]\"\n",
    "        Encoded = Payload.encode()\n",
    "\n",
    "        #data encryption\n",
    "        Encrypted_data = fernet.encrypt(Encoded)\n",
    "        print(Encrypted_data)\n",
    "\n",
    "        #Encrypted data stored in file\n",
    "        file = open('encrypted_data','wb')\n",
    "        file.write(Encrypted_data)\n",
    "        file.close()\n",
    "else:\n",
    "        print(\"wrong ECU id\")\n",
    "\n"
   ]
  },
  {
   "cell_type": "code",
   "execution_count": 4,
   "id": "aa06d03f",
   "metadata": {},
   "outputs": [
    {
     "name": "stdout",
     "output_type": "stream",
     "text": [
      "Enter the SlaveECU_ID for access: B09876543\n",
      "Authentication confirmed\n",
      "Received payload from master ECU: b'gAAAAABjcdh7bkJyzL-u-EX-mz9MISBmscvoddyVdH6B94ZOMAX0cGEyrEe4EFBbnZgRIkIp89KLNVmW0uZeR7Us_3id-Ts19tB96uUUudeaiOpKNSuTOfX3_CJ_7HOigNgmKwjSKswS'\n",
      "Enter key for decryption: b'PJq8DVemm3h3wWbzcTxusUwszuT1lKLuJW5Gd-urn4w='\n",
      "arbitration_id=0xabcde, data=[1,2,3]\n"
     ]
    }
   ],
   "source": [
    "import cryptography\n",
    "from cryptography.fernet import Fernet\n",
    "\n",
    "#slave ecu identification\n",
    "Slave_ID = str(input(\"Enter the SlaveECU_ID for access: \"))\n",
    "\n",
    "#slave ecu id stored in file\n",
    "file = open('SlaveECU_ID')\n",
    "SlaveECU_ID = file.read()\n",
    "file.close()\n",
    "\n",
    "if Slave_ID == str(SlaveECU_ID):\n",
    "        print(\"Authentication confirmed\")\n",
    "        file = open('encrypted_data','rb')\n",
    "        encrypted = file.read()\n",
    "        print('Received payload from master ECU:',encrypted)\n",
    "        key1 = str(input(\"Enter key for decryption: \"))\n",
    "\n",
    "        file = open('key_value','rb')\n",
    "        key = file.read()\n",
    "        file.close\n",
    "\n",
    "        fernet = Fernet(key)\n",
    "        if key1 == str(key):\n",
    "                file = open('encrypted_data','rb')\n",
    "                encrypted = file.read()\n",
    "                Decrypted = fernet.decrypt(encrypted)\n",
    "                Original_payload = Decrypted.decode()\n",
    "                print(Original_payload)\n",
    "        else:\n",
    "            print(\"Invalid key\")\n",
    "else:\n",
    "        print(\"Authentication failed\")\n",
    "        "
   ]
  },
  {
   "cell_type": "code",
   "execution_count": null,
   "id": "4fb4b5fc",
   "metadata": {},
   "outputs": [],
   "source": []
  }
 ],
 "metadata": {
  "kernelspec": {
   "display_name": "Python 3 (ipykernel)",
   "language": "python",
   "name": "python3"
  },
  "language_info": {
   "codemirror_mode": {
    "name": "ipython",
    "version": 3
   },
   "file_extension": ".py",
   "mimetype": "text/x-python",
   "name": "python",
   "nbconvert_exporter": "python",
   "pygments_lexer": "ipython3",
   "version": "3.9.12"
  }
 },
 "nbformat": 4,
 "nbformat_minor": 5
}
