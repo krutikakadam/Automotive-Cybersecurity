{
 "cells": [
  {
   "cell_type": "code",
   "execution_count": 230,
   "id": "e1d88b35",
   "metadata": {},
   "outputs": [],
   "source": [
    "import pandas"
   ]
  },
  {
   "cell_type": "code",
   "execution_count": 231,
   "id": "c7a4654c",
   "metadata": {},
   "outputs": [],
   "source": [
    "dataset = pandas.read_excel(\"Task3.xlsx\")"
   ]
  },
  {
   "cell_type": "code",
   "execution_count": 232,
   "id": "3ecd34f5",
   "metadata": {},
   "outputs": [],
   "source": [
    "import pandas as pd"
   ]
  },
  {
   "cell_type": "code",
   "execution_count": 233,
   "id": "f2b15c47",
   "metadata": {},
   "outputs": [],
   "source": [
    "dataset = pd.read_excel(\"Task3.xlsx\")"
   ]
  },
  {
   "cell_type": "code",
   "execution_count": 234,
   "id": "a82ab3bf",
   "metadata": {},
   "outputs": [
    {
     "data": {
      "text/html": [
       "<div>\n",
       "<style scoped>\n",
       "    .dataframe tbody tr th:only-of-type {\n",
       "        vertical-align: middle;\n",
       "    }\n",
       "\n",
       "    .dataframe tbody tr th {\n",
       "        vertical-align: top;\n",
       "    }\n",
       "\n",
       "    .dataframe thead th {\n",
       "        text-align: right;\n",
       "    }\n",
       "</style>\n",
       "<table border=\"1\" class=\"dataframe\">\n",
       "  <thead>\n",
       "    <tr style=\"text-align: right;\">\n",
       "      <th></th>\n",
       "      <th>Numbers</th>\n",
       "      <th>ISO 26262-6</th>\n",
       "      <th>Mapping</th>\n",
       "      <th>ISO 21434</th>\n",
       "    </tr>\n",
       "  </thead>\n",
       "  <tbody>\n",
       "    <tr>\n",
       "      <th>0</th>\n",
       "      <td>6.1</td>\n",
       "      <td>to specify or refine the software safety requi...</td>\n",
       "      <td>RQ-05-05</td>\n",
       "      <td>Cybersecurity goals and safety goals</td>\n",
       "    </tr>\n",
       "    <tr>\n",
       "      <th>1</th>\n",
       "      <td>6.1(a)</td>\n",
       "      <td>system architectural design specification</td>\n",
       "      <td>RQ-10-01</td>\n",
       "      <td>Existing architectural design</td>\n",
       "    </tr>\n",
       "    <tr>\n",
       "      <th>2</th>\n",
       "      <td>6.2</td>\n",
       "      <td>TSR refined and allocated to hardware and soft...</td>\n",
       "      <td>RQ-10-02</td>\n",
       "      <td>Allocated CS goals to cmponents of the archite...</td>\n",
       "    </tr>\n",
       "    <tr>\n",
       "      <th>3</th>\n",
       "      <td>6.3.1</td>\n",
       "      <td>Documentation of the software development envi...</td>\n",
       "      <td>RQ-10-04</td>\n",
       "      <td>Design modeling or programming or languages us...</td>\n",
       "    </tr>\n",
       "    <tr>\n",
       "      <th>4</th>\n",
       "      <td>6.3.2</td>\n",
       "      <td>NaN</td>\n",
       "      <td>NaN</td>\n",
       "      <td>NaN</td>\n",
       "    </tr>\n",
       "    <tr>\n",
       "      <th>5</th>\n",
       "      <td>6.4.1</td>\n",
       "      <td>Functions enable the safe execution of functio...</td>\n",
       "      <td>RQ-09-08</td>\n",
       "      <td>Technica or operational CS controls and their ...</td>\n",
       "    </tr>\n",
       "    <tr>\n",
       "      <th>6</th>\n",
       "      <td>6.4.2</td>\n",
       "      <td>Communication and user interfase</td>\n",
       "      <td>RQ-05-05</td>\n",
       "      <td>Interacting with CS and maintain communication...</td>\n",
       "    </tr>\n",
       "    <tr>\n",
       "      <th>7</th>\n",
       "      <td>6.4.3</td>\n",
       "      <td>ASIL decomposition</td>\n",
       "      <td>NaN</td>\n",
       "      <td>NaN</td>\n",
       "    </tr>\n",
       "    <tr>\n",
       "      <th>8</th>\n",
       "      <td>6.4.4</td>\n",
       "      <td>Safety related dependency between hardware and...</td>\n",
       "      <td>NaN</td>\n",
       "      <td>NaN</td>\n",
       "    </tr>\n",
       "    <tr>\n",
       "      <th>9</th>\n",
       "      <td>6.4.5</td>\n",
       "      <td>Safety requirements are carried out by embedde...</td>\n",
       "      <td>RQ-10-01</td>\n",
       "      <td>Use of seperate embedded hardware for secure k...</td>\n",
       "    </tr>\n",
       "    <tr>\n",
       "      <th>10</th>\n",
       "      <td>6.4.6</td>\n",
       "      <td>Refined haedware-software interface specificat...</td>\n",
       "      <td>WP-09-05, WP-09-07</td>\n",
       "      <td>Varification reports for CS goals, varificatio...</td>\n",
       "    </tr>\n",
       "    <tr>\n",
       "      <th>11</th>\n",
       "      <td>6.4.7</td>\n",
       "      <td>Hardware software interface, sitability for so...</td>\n",
       "      <td>RQ-10-04</td>\n",
       "      <td>Software development implemenatation includes ...</td>\n",
       "    </tr>\n",
       "    <tr>\n",
       "      <th>12</th>\n",
       "      <td>6.5</td>\n",
       "      <td>Work products</td>\n",
       "      <td>NaN</td>\n",
       "      <td>NaN</td>\n",
       "    </tr>\n",
       "    <tr>\n",
       "      <th>13</th>\n",
       "      <td>6.5.1</td>\n",
       "      <td>Software safety requirements specification</td>\n",
       "      <td>NaN</td>\n",
       "      <td>NaN</td>\n",
       "    </tr>\n",
       "    <tr>\n",
       "      <th>14</th>\n",
       "      <td>6.5.2</td>\n",
       "      <td>Hardware software interface specification</td>\n",
       "      <td>NaN</td>\n",
       "      <td>NaN</td>\n",
       "    </tr>\n",
       "    <tr>\n",
       "      <th>15</th>\n",
       "      <td>6.5.3</td>\n",
       "      <td>Software varification reports</td>\n",
       "      <td>WP-09-05, WP-09-07</td>\n",
       "      <td>Varification reports for CS goals, varificatio...</td>\n",
       "    </tr>\n",
       "  </tbody>\n",
       "</table>\n",
       "</div>"
      ],
      "text/plain": [
       "   Numbers                                        ISO 26262-6  \\\n",
       "0      6.1  to specify or refine the software safety requi...   \n",
       "1   6.1(a)          system architectural design specification   \n",
       "2      6.2  TSR refined and allocated to hardware and soft...   \n",
       "3    6.3.1  Documentation of the software development envi...   \n",
       "4    6.3.2                                                NaN   \n",
       "5    6.4.1  Functions enable the safe execution of functio...   \n",
       "6    6.4.2                   Communication and user interfase   \n",
       "7    6.4.3                                ASIL decomposition    \n",
       "8    6.4.4  Safety related dependency between hardware and...   \n",
       "9    6.4.5  Safety requirements are carried out by embedde...   \n",
       "10   6.4.6  Refined haedware-software interface specificat...   \n",
       "11   6.4.7  Hardware software interface, sitability for so...   \n",
       "12     6.5                                      Work products   \n",
       "13   6.5.1        Software safety requirements specification    \n",
       "14   6.5.2          Hardware software interface specification   \n",
       "15   6.5.3                     Software varification reports    \n",
       "\n",
       "               Mapping                                          ISO 21434  \n",
       "0             RQ-05-05               Cybersecurity goals and safety goals  \n",
       "1             RQ-10-01                      Existing architectural design  \n",
       "2             RQ-10-02  Allocated CS goals to cmponents of the archite...  \n",
       "3             RQ-10-04  Design modeling or programming or languages us...  \n",
       "4                  NaN                                                NaN  \n",
       "5             RQ-09-08  Technica or operational CS controls and their ...  \n",
       "6             RQ-05-05  Interacting with CS and maintain communication...  \n",
       "7                  NaN                                                NaN  \n",
       "8                  NaN                                                NaN  \n",
       "9             RQ-10-01  Use of seperate embedded hardware for secure k...  \n",
       "10  WP-09-05, WP-09-07  Varification reports for CS goals, varificatio...  \n",
       "11            RQ-10-04  Software development implemenatation includes ...  \n",
       "12                 NaN                                                NaN  \n",
       "13                 NaN                                                NaN  \n",
       "14                 NaN                                                NaN  \n",
       "15  WP-09-05, WP-09-07  Varification reports for CS goals, varificatio...  "
      ]
     },
     "execution_count": 234,
     "metadata": {},
     "output_type": "execute_result"
    }
   ],
   "source": [
    "dataset"
   ]
  },
  {
   "cell_type": "code",
   "execution_count": 235,
   "id": "3b37acc9",
   "metadata": {},
   "outputs": [],
   "source": [
    "#dataset.head(3)\n",
    "#dataset.tail(5)"
   ]
  },
  {
   "cell_type": "code",
   "execution_count": 236,
   "id": "066396a4",
   "metadata": {},
   "outputs": [],
   "source": [
    "#dir(dataset)"
   ]
  },
  {
   "cell_type": "code",
   "execution_count": 237,
   "id": "53cb7d3f",
   "metadata": {},
   "outputs": [],
   "source": [
    "#print(dataset)"
   ]
  },
  {
   "cell_type": "code",
   "execution_count": 238,
   "id": "043cf01f",
   "metadata": {},
   "outputs": [
    {
     "name": "stdout",
     "output_type": "stream",
     "text": [
      "['Numbers' 'ISO 26262-6' 'Mapping' 'ISO 21434']\n"
     ]
    },
    {
     "name": "stderr",
     "output_type": "stream",
     "text": [
      "C:\\Users\\Krutika Kadam\\AppData\\Local\\Temp\\ipykernel_9724\\326389115.py:1: FutureWarning: Index.ravel returning ndarray is deprecated; in a future version this will return a view on self.\n",
      "  print(dataset.columns.ravel())     #The numpy module of Python provides a function called numpy\n"
     ]
    }
   ],
   "source": [
    "print(dataset.columns.ravel())     #The numpy module of Python provides a function called numpy"
   ]
  },
  {
   "cell_type": "code",
   "execution_count": 239,
   "id": "a8d237c4",
   "metadata": {},
   "outputs": [
    {
     "name": "stdout",
     "output_type": "stream",
     "text": [
      "['RQ-05-05', 'RQ-10-01', 'RQ-10-02', 'RQ-10-04', nan, 'RQ-09-08', 'RQ-05-05', nan, nan, 'RQ-10-01', 'WP-09-05, WP-09-07', 'RQ-10-04', nan, nan, nan, 'WP-09-05, WP-09-07']\n"
     ]
    }
   ],
   "source": [
    "print(dataset['Mapping'].tolist())   #used to convert the data elements of an array into a list"
   ]
  },
  {
   "cell_type": "code",
   "execution_count": 240,
   "id": "5407eca2",
   "metadata": {},
   "outputs": [],
   "source": [
    "l1 = dataset['Mapping'].tolist()     #list"
   ]
  },
  {
   "cell_type": "code",
   "execution_count": 241,
   "id": "faf1f2de",
   "metadata": {},
   "outputs": [
    {
     "data": {
      "text/plain": [
       "['RQ-05-05',\n",
       " 'RQ-10-01',\n",
       " 'RQ-10-02',\n",
       " 'RQ-10-04',\n",
       " nan,\n",
       " 'RQ-09-08',\n",
       " 'RQ-05-05',\n",
       " nan,\n",
       " nan,\n",
       " 'RQ-10-01',\n",
       " 'WP-09-05, WP-09-07',\n",
       " 'RQ-10-04',\n",
       " nan,\n",
       " nan,\n",
       " nan,\n",
       " 'WP-09-05, WP-09-07']"
      ]
     },
     "execution_count": 241,
     "metadata": {},
     "output_type": "execute_result"
    }
   ],
   "source": [
    "l1"
   ]
  },
  {
   "cell_type": "code",
   "execution_count": 242,
   "id": "f2ca388c",
   "metadata": {},
   "outputs": [],
   "source": [
    "#l.get('RQ-10-01')"
   ]
  },
  {
   "cell_type": "code",
   "execution_count": 243,
   "id": "7ccc12e9",
   "metadata": {},
   "outputs": [],
   "source": [
    "#dir(l)"
   ]
  },
  {
   "cell_type": "code",
   "execution_count": 244,
   "id": "b60e4b45",
   "metadata": {},
   "outputs": [],
   "source": [
    "#l.index('RQ-05-10')"
   ]
  },
  {
   "cell_type": "code",
   "execution_count": 245,
   "id": "9b51ccc5",
   "metadata": {},
   "outputs": [
    {
     "data": {
      "text/plain": [
       "1"
      ]
     },
     "execution_count": 245,
     "metadata": {},
     "output_type": "execute_result"
    }
   ],
   "source": [
    "l1.index('RQ-10-01')"
   ]
  },
  {
   "cell_type": "code",
   "execution_count": 246,
   "id": "77ae85ac",
   "metadata": {},
   "outputs": [
    {
     "data": {
      "text/plain": [
       "'RQ-10-01'"
      ]
     },
     "execution_count": 246,
     "metadata": {},
     "output_type": "execute_result"
    }
   ],
   "source": [
    "l1[1]"
   ]
  },
  {
   "cell_type": "code",
   "execution_count": 247,
   "id": "7784417f",
   "metadata": {},
   "outputs": [],
   "source": [
    "#dir(dataset)"
   ]
  },
  {
   "cell_type": "code",
   "execution_count": 248,
   "id": "94ad6f5d",
   "metadata": {},
   "outputs": [],
   "source": [
    "#dataset.values()"
   ]
  },
  {
   "cell_type": "code",
   "execution_count": 249,
   "id": "ca327ffe",
   "metadata": {},
   "outputs": [],
   "source": [
    "#dataset.get()"
   ]
  },
  {
   "cell_type": "code",
   "execution_count": 250,
   "id": "2f880b24",
   "metadata": {},
   "outputs": [],
   "source": [
    "#dataset.get('RQ-10-01')"
   ]
  },
  {
   "cell_type": "code",
   "execution_count": 251,
   "id": "0a0d7af3",
   "metadata": {},
   "outputs": [],
   "source": [
    "#print(dataset.get('RQ-10-01'))"
   ]
  },
  {
   "cell_type": "code",
   "execution_count": 252,
   "id": "190d8eb7",
   "metadata": {},
   "outputs": [],
   "source": [
    "l2 = dataset['ISO 21434'].tolist()                 #used to convert the data elements of an array into a list"
   ]
  },
  {
   "cell_type": "code",
   "execution_count": 253,
   "id": "73438618",
   "metadata": {},
   "outputs": [
    {
     "data": {
      "text/plain": [
       "['Cybersecurity goals and safety goals',\n",
       " 'Existing architectural design',\n",
       " 'Allocated CS goals to cmponents of the architecture design',\n",
       " 'Design modeling or programming or languages used for the CS specification for the software development',\n",
       " nan,\n",
       " 'Technica or operational CS controls and their interactions to archive CS and dependencies between the function of the items',\n",
       " 'Interacting with CS and maintain communication between disciplines',\n",
       " nan,\n",
       " nan,\n",
       " 'Use of seperate embedded hardware for secure key store functionality ',\n",
       " 'Varification reports for CS goals, varification reports for CS concepts',\n",
       " 'Software development implemenatation includes coading using programming languages',\n",
       " nan,\n",
       " nan,\n",
       " nan,\n",
       " 'Varification reports for CS goals, varification reports for CS concepts']"
      ]
     },
     "execution_count": 253,
     "metadata": {},
     "output_type": "execute_result"
    }
   ],
   "source": [
    "l2"
   ]
  },
  {
   "cell_type": "code",
   "execution_count": 254,
   "id": "d93c2543",
   "metadata": {},
   "outputs": [
    {
     "data": {
      "text/html": [
       "<div>\n",
       "<style scoped>\n",
       "    .dataframe tbody tr th:only-of-type {\n",
       "        vertical-align: middle;\n",
       "    }\n",
       "\n",
       "    .dataframe tbody tr th {\n",
       "        vertical-align: top;\n",
       "    }\n",
       "\n",
       "    .dataframe thead th {\n",
       "        text-align: right;\n",
       "    }\n",
       "</style>\n",
       "<table border=\"1\" class=\"dataframe\">\n",
       "  <thead>\n",
       "    <tr style=\"text-align: right;\">\n",
       "      <th></th>\n",
       "      <th>Numbers</th>\n",
       "      <th>ISO 26262-6</th>\n",
       "      <th>Mapping</th>\n",
       "      <th>ISO 21434</th>\n",
       "    </tr>\n",
       "  </thead>\n",
       "  <tbody>\n",
       "    <tr>\n",
       "      <th>0</th>\n",
       "      <td>6.1</td>\n",
       "      <td>to specify or refine the software safety requi...</td>\n",
       "      <td>RQ-05-05</td>\n",
       "      <td>Cybersecurity goals and safety goals</td>\n",
       "    </tr>\n",
       "    <tr>\n",
       "      <th>6</th>\n",
       "      <td>6.4.2</td>\n",
       "      <td>Communication and user interfase</td>\n",
       "      <td>RQ-05-05</td>\n",
       "      <td>Interacting with CS and maintain communication...</td>\n",
       "    </tr>\n",
       "  </tbody>\n",
       "</table>\n",
       "</div>"
      ],
      "text/plain": [
       "  Numbers                                        ISO 26262-6   Mapping  \\\n",
       "0     6.1  to specify or refine the software safety requi...  RQ-05-05   \n",
       "6   6.4.2                   Communication and user interfase  RQ-05-05   \n",
       "\n",
       "                                           ISO 21434  \n",
       "0               Cybersecurity goals and safety goals  \n",
       "6  Interacting with CS and maintain communication...  "
      ]
     },
     "execution_count": 254,
     "metadata": {},
     "output_type": "execute_result"
    }
   ],
   "source": [
    "dataset.loc[dataset['Mapping'] == 'RQ-05-05']       #loc() - Access a group of rows and columns"
   ]
  },
  {
   "cell_type": "code",
   "execution_count": 255,
   "id": "d73da601",
   "metadata": {},
   "outputs": [
    {
     "data": {
      "text/plain": [
       "0                 Cybersecurity goals and safety goals\n",
       "6    Interacting with CS and maintain communication...\n",
       "Name: ISO 21434, dtype: object"
      ]
     },
     "execution_count": 255,
     "metadata": {},
     "output_type": "execute_result"
    }
   ],
   "source": [
    "dataset.loc[dataset['Mapping'] == 'RQ-05-05', 'ISO 21434']"
   ]
  },
  {
   "cell_type": "code",
   "execution_count": 256,
   "id": "c3cee5df",
   "metadata": {},
   "outputs": [
    {
     "data": {
      "text/plain": [
       "'Cybersecurity goals and safety goals'"
      ]
     },
     "execution_count": 256,
     "metadata": {},
     "output_type": "execute_result"
    }
   ],
   "source": [
    "dataset.loc[dataset['Mapping'] == 'RQ-05-05', 'ISO 21434'].iloc[0]   #integer-location based indexing for selection by position"
   ]
  },
  {
   "cell_type": "code",
   "execution_count": 257,
   "id": "42453796",
   "metadata": {},
   "outputs": [
    {
     "data": {
      "text/plain": [
       "'Interacting with CS and maintain communication between disciplines'"
      ]
     },
     "execution_count": 257,
     "metadata": {},
     "output_type": "execute_result"
    }
   ],
   "source": [
    "dataset.loc[dataset['Mapping'] == 'RQ-05-05', 'ISO 21434'].iloc[1]  "
   ]
  },
  {
   "cell_type": "code",
   "execution_count": 258,
   "id": "29227721",
   "metadata": {},
   "outputs": [
    {
     "data": {
      "text/plain": [
       "2    Allocated CS goals to cmponents of the archite...\n",
       "Name: ISO 21434, dtype: object"
      ]
     },
     "execution_count": 258,
     "metadata": {},
     "output_type": "execute_result"
    }
   ],
   "source": [
    "dataset.loc[dataset['Mapping'] == 'RQ-10-02', 'ISO 21434'] "
   ]
  },
  {
   "cell_type": "code",
   "execution_count": 259,
   "id": "2c501f3f",
   "metadata": {},
   "outputs": [],
   "source": [
    "#map1 = dataset.loc[dataset['Mapping'] == 'RQ-05-05', 'ISO 21434']\n",
    "#map1\n",
    "#dataset.loc[dataset['Mapping'] == l, 'ISO 21434']\n",
    "#map2 = dataset.loc[dataset['Mapping'] == l, 'ISO 21434']\n",
    "#map2"
   ]
  },
  {
   "cell_type": "markdown",
   "id": "dd4b6b70",
   "metadata": {},
   "source": []
  },
  {
   "cell_type": "code",
   "execution_count": null,
   "id": "3686b46a",
   "metadata": {},
   "outputs": [],
   "source": []
  },
  {
   "cell_type": "code",
   "execution_count": null,
   "id": "1c7772cf",
   "metadata": {},
   "outputs": [],
   "source": []
  }
 ],
 "metadata": {
  "kernelspec": {
   "display_name": "Python 3 (ipykernel)",
   "language": "python",
   "name": "python3"
  },
  "language_info": {
   "codemirror_mode": {
    "name": "ipython",
    "version": 3
   },
   "file_extension": ".py",
   "mimetype": "text/x-python",
   "name": "python",
   "nbconvert_exporter": "python",
   "pygments_lexer": "ipython3",
   "version": "3.9.12"
  }
 },
 "nbformat": 4,
 "nbformat_minor": 5
}
