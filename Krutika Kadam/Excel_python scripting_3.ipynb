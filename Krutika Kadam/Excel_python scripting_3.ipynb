{
 "cells": [
  {
   "cell_type": "code",
   "execution_count": 76,
   "id": "ffb9d4ee",
   "metadata": {},
   "outputs": [
    {
     "name": "stdout",
     "output_type": "stream",
     "text": [
      "Requirement already satisfied: PyPDF2 in c:\\users\\krutika kadam\\anaconda3\\lib\\site-packages (2.11.1)Note: you may need to restart the kernel to use updated packages.\n",
      "Requirement already satisfied: typing-extensions>=3.10.0.0 in c:\\users\\krutika kadam\\anaconda3\\lib\\site-packages (from PyPDF2) (4.1.1)\n",
      "\n"
     ]
    }
   ],
   "source": [
    "pip install PyPDF2"
   ]
  },
  {
   "cell_type": "code",
   "execution_count": 77,
   "id": "d551ead3",
   "metadata": {},
   "outputs": [],
   "source": [
    "import PyPDF2 as PDF"
   ]
  },
  {
   "cell_type": "code",
   "execution_count": 78,
   "id": "adfe7f8d",
   "metadata": {},
   "outputs": [],
   "source": [
    "import openpyxl as xl"
   ]
  },
  {
   "cell_type": "code",
   "execution_count": 79,
   "id": "3865cc35",
   "metadata": {},
   "outputs": [],
   "source": [
    "file = open('ISO SAE 214342021.pdf','rb')\n",
    "wb = xl.load_workbook('Task3.xlsx')\n",
    "ws = wb['Sheet2']"
   ]
  },
  {
   "cell_type": "code",
   "execution_count": 80,
   "id": "1adf775b",
   "metadata": {},
   "outputs": [],
   "source": [
    "pdf = PDF.PdfFileReader(file)"
   ]
  },
  {
   "cell_type": "code",
   "execution_count": 81,
   "id": "04785f4e",
   "metadata": {},
   "outputs": [
    {
     "name": "stdout",
     "output_type": "stream",
     "text": [
      "88\n"
     ]
    }
   ],
   "source": [
    "print(pdf.numPages)"
   ]
  },
  {
   "cell_type": "code",
   "execution_count": 82,
   "id": "05f0ca3d",
   "metadata": {},
   "outputs": [],
   "source": [
    "pdfList = []\n",
    "for val in range(88):\n",
    "    pdfList.append(pdf.getPage(val))"
   ]
  },
  {
   "cell_type": "code",
   "execution_count": 83,
   "id": "a959b5e1",
   "metadata": {},
   "outputs": [
    {
     "data": {
      "text/plain": [
       "list"
      ]
     },
     "execution_count": 83,
     "metadata": {},
     "output_type": "execute_result"
    }
   ],
   "source": [
    "type(pdfList)"
   ]
  },
  {
   "cell_type": "code",
   "execution_count": 85,
   "id": "de023c5b",
   "metadata": {},
   "outputs": [],
   "source": [
    "for row in range(1,ws.max_row+1):\n",
    "    inp = ws.cell(row,1).value\n",
    "    inp = '[' +inp+']'\n",
    "    string = ''\n",
    "    for page in pdfList:\n",
    "        if page.extractText().find(inp) != -1:\n",
    "            string = page.extractText()\n",
    "            break\n",
    "    val = (string.find(inp))\n",
    "    out = ''\n",
    "    val+=12\n",
    "    while string[val:val+2] != '.\\n':\n",
    "          #print(string[val],end='')\n",
    "        out +=string[val]\n",
    "        val +=1\n",
    "        ws.cell(row,2).value = out"
   ]
  },
  {
   "cell_type": "code",
   "execution_count": 87,
   "id": "833e77da",
   "metadata": {},
   "outputs": [],
   "source": [
    "wb.save('Task3.xlsx')"
   ]
  },
  {
   "cell_type": "code",
   "execution_count": null,
   "id": "b7c64ece",
   "metadata": {},
   "outputs": [],
   "source": []
  },
  {
   "cell_type": "code",
   "execution_count": null,
   "id": "50ea9d95",
   "metadata": {},
   "outputs": [],
   "source": []
  },
  {
   "cell_type": "code",
   "execution_count": null,
   "id": "bbc094eb",
   "metadata": {},
   "outputs": [],
   "source": []
  }
 ],
 "metadata": {
  "kernelspec": {
   "display_name": "Python 3 (ipykernel)",
   "language": "python",
   "name": "python3"
  },
  "language_info": {
   "codemirror_mode": {
    "name": "ipython",
    "version": 3
   },
   "file_extension": ".py",
   "mimetype": "text/x-python",
   "name": "python",
   "nbconvert_exporter": "python",
   "pygments_lexer": "ipython3",
   "version": "3.9.12"
  }
 },
 "nbformat": 4,
 "nbformat_minor": 5
}
