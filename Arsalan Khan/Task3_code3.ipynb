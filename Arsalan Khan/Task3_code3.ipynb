{
 "cells": [
  {
   "cell_type": "code",
   "execution_count": 1,
   "id": "27c75cb1",
   "metadata": {},
   "outputs": [],
   "source": [
    "import PyPDF2 as PDF\n",
    "import openpyxl as xl"
   ]
  },
  {
   "cell_type": "code",
   "execution_count": 9,
   "id": "5d5fa878",
   "metadata": {},
   "outputs": [],
   "source": [
    "file = open(r'C:\\Users\\Arsalan Khan\\Downloads\\ISO SAE 214342021.pdf','rb')\n",
    "wb = xl.load_workbook('Assignment_2.xlsx')\n",
    "ws = wb['Sheet2']\n",
    "#inp = ws.cell(1,1).value\n",
    "#inp = '[' +inp +']'"
   ]
  },
  {
   "cell_type": "code",
   "execution_count": 10,
   "id": "d1b5c885",
   "metadata": {},
   "outputs": [],
   "source": [
    "pdf = PDF.PdfFileReader(file)"
   ]
  },
  {
   "cell_type": "code",
   "execution_count": 11,
   "id": "e9e5991e",
   "metadata": {},
   "outputs": [
    {
     "name": "stdout",
     "output_type": "stream",
     "text": [
      "88\n"
     ]
    }
   ],
   "source": [
    "print(pdf.numPages)"
   ]
  },
  {
   "cell_type": "code",
   "execution_count": 12,
   "id": "d93d2627",
   "metadata": {},
   "outputs": [],
   "source": [
    "pdfList = []\n",
    "for val in range(88):\n",
    "    pdfList.append(pdf.getPage(val))"
   ]
  },
  {
   "cell_type": "code",
   "execution_count": 13,
   "id": "ada08fd7",
   "metadata": {},
   "outputs": [
    {
     "data": {
      "text/plain": [
       "list"
      ]
     },
     "execution_count": 13,
     "metadata": {},
     "output_type": "execute_result"
    }
   ],
   "source": [
    "type(pdfList)"
   ]
  },
  {
   "cell_type": "code",
   "execution_count": 14,
   "id": "741acdc3",
   "metadata": {},
   "outputs": [],
   "source": [
    "for row in range(1,ws.max_row+1):\n",
    "    inp = ws.cell(row,1).value\n",
    "    inp = '[' +inp+']'\n",
    "    string = ''\n",
    "    for page in pdfList:\n",
    "        if page.extractText().find(inp) != -1:\n",
    "            string = page.extractText()\n",
    "            break\n",
    "    val = (string.find(inp))\n",
    "    out = ''\n",
    "    val+=12\n",
    "    while string[val:val+2] != '.\\n':# and string[val+1] != '\\n' and string[val+2] !='a':\n",
    "        #print(string[val],end='')\n",
    "        out +=string[val]\n",
    "        val +=1        \n",
    "    ws.cell(row,2).value = out"
   ]
  },
  {
   "cell_type": "code",
   "execution_count": 15,
   "id": "c49a0b0d",
   "metadata": {},
   "outputs": [],
   "source": [
    "wb.save('Assignment_2.xlsx')"
   ]
  },
  {
   "cell_type": "code",
   "execution_count": null,
   "id": "1f6d0452",
   "metadata": {},
   "outputs": [],
   "source": []
  }
 ],
 "metadata": {
  "kernelspec": {
   "display_name": "Python 3 (ipykernel)",
   "language": "python",
   "name": "python3"
  },
  "language_info": {
   "codemirror_mode": {
    "name": "ipython",
    "version": 3
   },
   "file_extension": ".py",
   "mimetype": "text/x-python",
   "name": "python",
   "nbconvert_exporter": "python",
   "pygments_lexer": "ipython3",
   "version": "3.9.12"
  }
 },
 "nbformat": 4,
 "nbformat_minor": 5
}
