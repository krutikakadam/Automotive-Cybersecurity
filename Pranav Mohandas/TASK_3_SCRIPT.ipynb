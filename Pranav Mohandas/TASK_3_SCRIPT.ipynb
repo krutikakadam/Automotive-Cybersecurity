{
 "cells": [
  {
   "cell_type": "code",
   "execution_count": 67,
   "id": "f02ae7e5",
   "metadata": {},
   "outputs": [
    {
     "name": "stdout",
     "output_type": "stream",
     "text": [
      "Requirement already satisfied: PyPDF2 in c:\\users\\pranav mohandas\\anaconda3\\lib\\site-packages (2.11.1)\n",
      "Requirement already satisfied: typing-extensions>=3.10.0.0 in c:\\users\\pranav mohandas\\anaconda3\\lib\\site-packages (from PyPDF2) (4.1.1)\n",
      "Note: you may need to restart the kernel to use updated packages.\n"
     ]
    }
   ],
   "source": [
    "pip install PyPDF2"
   ]
  },
  {
   "cell_type": "code",
   "execution_count": 68,
   "id": "48dc2d2e",
   "metadata": {},
   "outputs": [],
   "source": [
    "import PyPDF2 as PDF"
   ]
  },
  {
   "cell_type": "code",
   "execution_count": 69,
   "id": "797f6359",
   "metadata": {},
   "outputs": [],
   "source": [
    "import openpyxl as xl"
   ]
  },
  {
   "cell_type": "code",
   "execution_count": 70,
   "id": "14b5545e",
   "metadata": {},
   "outputs": [],
   "source": [
    "file=open(r'C:\\Users\\Pranav Mohandas\\ISO SAE 214342021.PDF','rb')\n",
    "wb=xl.load_workbook('TASK_3_script.xlsx')\n",
    "ws=wb['Sheet1']"
   ]
  },
  {
   "cell_type": "code",
   "execution_count": 71,
   "id": "27289ea9",
   "metadata": {},
   "outputs": [],
   "source": [
    "pdf=PDF.PdfFileReader(file)"
   ]
  },
  {
   "cell_type": "code",
   "execution_count": 72,
   "id": "7ebc590f",
   "metadata": {},
   "outputs": [
    {
     "name": "stdout",
     "output_type": "stream",
     "text": [
      "88\n"
     ]
    }
   ],
   "source": [
    "print(pdf.numPages)"
   ]
  },
  {
   "cell_type": "code",
   "execution_count": 73,
   "id": "64ee27e7",
   "metadata": {},
   "outputs": [],
   "source": [
    "pdfList=[]\n",
    "for val in range(88):\n",
    "    pdfList.append(pdf.getPage(val))"
   ]
  },
  {
   "cell_type": "code",
   "execution_count": 74,
   "id": "2dd06617",
   "metadata": {},
   "outputs": [
    {
     "name": "stdout",
     "output_type": "stream",
     "text": [
      "1790\n",
      "Work products should be managed in accordance with an information security management \n",
      "system2053\n",
      "A cybersecurity audit shall be performed independently to judge whether the \n",
      "organizational processes achieve the objectives of this document23\n",
      "The cybersecurity plan shall specify the activities that are required for cybersecurity \n",
      "during the concept and product development phases in accordance with the relevant requirements of \n",
      "Clauses 9 , 10, 11 and 15"
     ]
    }
   ],
   "source": [
    "for row in range(1,ws.max_row+1):\n",
    "    inp =ws.cell(row,1).value\n",
    "    inp='[' +inp+']'\n",
    "    string=''\n",
    "    for page in pdfList:\n",
    "        if page.extractText().find(inp) != -1:\n",
    "            string=page.extractText()\n",
    "\n",
    "            break\n",
    "\n",
    "    val=(string.find(inp))\n",
    "    out=''\n",
    "    print(val)\n",
    "    val+=12\n",
    "    while string[val:val+2] !='.\\n':\n",
    "        print(string[val],end='')\n",
    "        out += string[val]\n",
    "        val += 1\n",
    "        ws.cell(row,2).value=out"
   ]
  },
  {
   "cell_type": "code",
   "execution_count": 75,
   "id": "1ed27f10",
   "metadata": {},
   "outputs": [],
   "source": [
    "wb.save('TASK_3_script.xlsx')"
   ]
  },
  {
   "cell_type": "code",
   "execution_count": null,
   "id": "02d3cd2a",
   "metadata": {},
   "outputs": [],
   "source": []
  },
  {
   "cell_type": "code",
   "execution_count": null,
   "id": "9c5f728a",
   "metadata": {},
   "outputs": [],
   "source": []
  }
 ],
 "metadata": {
  "kernelspec": {
   "display_name": "Python 3 (ipykernel)",
   "language": "python",
   "name": "python3"
  },
  "language_info": {
   "codemirror_mode": {
    "name": "ipython",
    "version": 3
   },
   "file_extension": ".py",
   "mimetype": "text/x-python",
   "name": "python",
   "nbconvert_exporter": "python",
   "pygments_lexer": "ipython3",
   "version": "3.9.12"
  }
 },
 "nbformat": 4,
 "nbformat_minor": 5
}
